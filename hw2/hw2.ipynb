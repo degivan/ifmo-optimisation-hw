{
 "cells": [
  {
   "attachments": {
    "image.png": {
     "image/png": "[encoded data removed]"
    }
   },
   "cell_type": "markdown",
   "metadata": {},
   "source": [
    "![image.png](attachment:image.png)"
   ]
  },
  {
   "cell_type": "code",
   "execution_count": 1,
   "metadata": {},
   "outputs": [],
   "source": [
    "from math import sqrt\n",
    "\n",
    "def f(x, y):\n",
    "    return 7 * x ** 2 + 3 * x ** 4 + 28 * x * y + 14 * y ** 2 + 12 *x ** 2 * y ** 2 + 11 * y ** 4"
   ]
  },
  {
   "cell_type": "code",
   "execution_count": 2,
   "metadata": {},
   "outputs": [],
   "source": [
    "def dichotomy_method(f, a, b, delta, eps):\n",
    "    start = a\n",
    "    fin = b\n",
    "    it_count = 0\n",
    "    while (fin - start) / 2.0 > eps:\n",
    "        c = (start + fin - delta) / 2.0\n",
    "        d = (start + fin + delta) / 2.0\n",
    "        if f(c) <= f(d):\n",
    "            fin = d\n",
    "        else:\n",
    "            start = c\n",
    "        it_count += 1\n",
    "    return (start + fin) / 2.0, it_count, it_count * 2"
   ]
  },
  {
   "cell_type": "code",
   "execution_count": 3,
   "metadata": {},
   "outputs": [],
   "source": [
    "EPS = 10 ** (-6)\n",
    "\n",
    "f_y = lambda x: lambda y: f(x, y)\n",
    "f_x = lambda y: lambda x: f(x, y)"
   ]
  },
  {
   "cell_type": "code",
   "execution_count": 4,
   "metadata": {},
   "outputs": [],
   "source": [
    "def diff(x1, y1, x2, y2):\n",
    "    return sqrt((x1 - x2) ** 2 + (y1 - y2) ** 2)\n",
    "\n",
    "def coordinate_descent(A_x, B_x, A_y, B_y, eps):\n",
    "    delta = eps / 2.0\n",
    "    x = A_x + B_x / 2\n",
    "    y = A_y + B_y / 2\n",
    "    while True:\n",
    "        y_upd = dichotomy_method(f_y(x), A_y, B_y, delta, eps / 2)[0]\n",
    "        x_upd = dichotomy_method(f_x(y_upd), A_x, B_x, delta, eps / 2)[0]\n",
    "        if diff(x, y, x_upd, y_upd) <= eps:\n",
    "            break\n",
    "        x = x_upd\n",
    "        y = y_upd\n",
    "    return f(x_upd, y_upd), x_upd, y_upd"
   ]
  },
  {
   "cell_type": "code",
   "execution_count": 5,
   "metadata": {},
   "outputs": [
    {
     "name": "stdout",
     "output_type": "stream",
     "text": [
      "(-0.71559088557573, -0.49524461762863403, 0.3523941316037653)\n"
     ]
    }
   ],
   "source": [
    "print(coordinate_descent(-1.0, 1.0, -40.0, 40.0, EPS))"
   ]
  },
  {
   "cell_type": "code",
   "execution_count": null,
   "metadata": {},
   "outputs": [],
   "source": [
    "def grad_f(x, y):\n",
    "    "
   ]
  }
 ],
 "metadata": {
  "kernelspec": {
   "display_name": "Python 3",
   "language": "python",
   "name": "python3"
  },
  "language_info": {
   "codemirror_mode": {
    "name": "ipython",
    "version": 3
   },
   "file_extension": ".py",
   "mimetype": "text/x-python",
   "name": "python",
   "nbconvert_exporter": "python",
   "pygments_lexer": "ipython3",
   "version": "3.5.2"
  }
 },
 "nbformat": 4,
 "nbformat_minor": 2
}
